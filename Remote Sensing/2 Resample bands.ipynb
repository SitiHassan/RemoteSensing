{
 "cells": [
  {
   "cell_type": "markdown",
   "id": "7b326950-c3c2-4d45-92b8-b2c42a3e8225",
   "metadata": {},
   "source": [
    "Once we have downloaded multiple bands, we need to ensure the all bands are consistently at a 10-meter resolution, which is the highest resolution.\n",
    "\n",
    "* **Bands 2, 3, 4, and 8**: These have a native resolution of 10 meters.\n",
    "* **Bands 11 and 12**: These typically have a native resolution of 20 meters.\n",
    "\n",
    "Therefore, we need to resample the 20-meter bands to 10-meter resolution."
   ]
  },
  {
   "cell_type": "markdown",
   "id": "1d26c78e-c692-450b-b4c6-1c7446980cbc",
   "metadata": {},
   "source": [
    "# Step 1: Open the Dataset (TIFF file)\n",
    "\n",
    "Our multi-band dataset has all the bands stacked in a single file. So, we'll need to read each band, check its resolution, and resample if necessary."
   ]
  },
  {
   "cell_type": "markdown",
   "id": "1b26cf5c-351f-4f33-bfdf-7dbc3e9c3cba",
   "metadata": {},
   "source": [
    "# Step 2: Resample Bands\n"
   ]
  },
  {
   "cell_type": "code",
   "execution_count": 31,
   "id": "ad70a857-9e83-4dcc-8d32-103d595316d0",
   "metadata": {},
   "outputs": [],
   "source": [
    "import rasterio\n",
    "from rasterio.enums import Resampling\n"
   ]
  },
  {
   "cell_type": "code",
   "execution_count": 33,
   "id": "3360e475-7c1c-454e-a844-350143cbafba",
   "metadata": {},
   "outputs": [],
   "source": [
    "# Path to original TIFF file\n",
    "all_bands_tiff_path = 'Data\\84adf81eb4ae349dc1f28833fabdf54b/response.tiff'"
   ]
  },
  {
   "cell_type": "code",
   "execution_count": 37,
   "id": "fba08b4f-0629-4951-825e-1c1cf9696fe1",
   "metadata": {},
   "outputs": [],
   "source": [
    "# Open the source dataset\n",
    "with rasterio.open(all_bands_tiff_path) as src:\n",
    "    # Read in each band, some might already be at the desired resolution\n",
    "    band2 = src.read(2)  \n",
    "    band3 = src.read(3)\n",
    "    band4 = src.read(4)\n",
    "    band8 = src.read(8)\n",
    "    band11 = src.read(12)\n",
    "    band12 = src.read(13) # The last band\n",
    "\n",
    "    # Get metadata and update it for the output file\n",
    "    meta = src.meta.copy()\n",
    "    transform = src.transform\n",
    "    new_width = src.width * 2  # Doubling width for 10m resolution\n",
    "    new_height = src.height * 2  # Doubling height for 10m resolution\n",
    "\n",
    "    # Update meta for new file\n",
    "    meta.update({\n",
    "        \"driver\": \"GTiff\",\n",
    "        \"height\": new_height,\n",
    "        \"width\": new_width,\n",
    "        \"transform\": transform * transform.scale((src.width / new_width), (src.height / new_height))\n",
    "    })\n",
    "\n",
    "    # Resample bands 11 and 12 from 20m to 10m\n",
    "    band11_resampled = src.read(12, out_shape=(new_height, new_width), resampling=Resampling.bilinear)\n",
    "    band12_resampled = src.read(13, out_shape=(new_height, new_width), resampling=Resampling.bilinear)\n"
   ]
  },
  {
   "cell_type": "markdown",
   "id": "9c3fa0f8-0780-4113-8b85-6a47821dbd5d",
   "metadata": {},
   "source": [
    "* **Transform Scaling**: This adjusts the geographic transform of the image to account for the change in resolution, ensuring that each pixel still maps accurately to geographic space.\n",
    "\n",
    "* **Resampling**: Bilinear interpolation is used for resampling because it provides a good balance between computational efficiency and image quality for continuous data. This method interpolates pixel values to create new values for the higher resolution output.\n",
    "\n",
    "* **Metadata Updating**: Metadata is crucial to maintain geospatial referencing information, ensuring that the output file is usable in GIS applications."
   ]
  },
  {
   "cell_type": "markdown",
   "id": "b21a2c6f-1154-4b0a-9348-48f3f6d64427",
   "metadata": {},
   "source": [
    "# Step 3: Write the New File with All Bands\n",
    "Writing all bands into a new TIFF file while ensuring all are at the 10m resolution."
   ]
  },
  {
   "cell_type": "code",
   "execution_count": 43,
   "id": "27b92dea-9728-46cd-959d-9cbfcdfc8475",
   "metadata": {},
   "outputs": [],
   "source": [
    "with rasterio.open('Data/resampled_output.tif', 'w', **meta) as dst:\n",
    "    dst.write(band2, 1)  # Write previously 10m bands as they are\n",
    "    dst.write(band3, 2)\n",
    "    dst.write(band4, 3)\n",
    "    dst.write(band8, 4)\n",
    "    dst.write(band11_resampled, 5)  # Write resampled 20m bands\n",
    "    dst.write(band12_resampled, 6)\n"
   ]
  },
  {
   "cell_type": "code",
   "execution_count": null,
   "id": "72cd91ba-c47a-4ad4-9063-bd46cc59d219",
   "metadata": {},
   "outputs": [],
   "source": []
  }
 ],
 "metadata": {
  "kernelspec": {
   "display_name": "Python 3 (ipykernel)",
   "language": "python",
   "name": "python3"
  },
  "language_info": {
   "codemirror_mode": {
    "name": "ipython",
    "version": 3
   },
   "file_extension": ".py",
   "mimetype": "text/x-python",
   "name": "python",
   "nbconvert_exporter": "python",
   "pygments_lexer": "ipython3",
   "version": "3.10.9"
  }
 },
 "nbformat": 4,
 "nbformat_minor": 5
}
